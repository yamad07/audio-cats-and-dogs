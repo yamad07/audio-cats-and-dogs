{
 "cells": [
  {
   "cell_type": "markdown",
   "metadata": {},
   "source": [
    "## オーディオデータによる分類問題\n",
    "犬と猫の鳴き声のデータを用いて、犬と猫に分類する。\n",
    "モデルはRandomForestを使用した。"
   ]
  },
  {
   "cell_type": "code",
   "execution_count": 1,
   "metadata": {},
   "outputs": [
    {
     "name": "stderr",
     "output_type": "stream",
     "text": [
      "/Users/yamad07/.pyenv/versions/3.7.2/lib/python3.7/site-packages/librosa/util/decorators.py:9: NumbaDeprecationWarning: \u001b[1mAn import was requested from a module that has moved location.\n",
      "Import requested from: 'numba.decorators', please update to use 'numba.core.decorators' or pin to Numba version 0.48.0. This alias will not be present in Numba version 0.50.0.\u001b[0m\n",
      "  from numba.decorators import jit as optional_jit\n",
      "/Users/yamad07/.pyenv/versions/3.7.2/lib/python3.7/site-packages/librosa/util/decorators.py:9: NumbaDeprecationWarning: \u001b[1mAn import was requested from a module that has moved location.\n",
      "Import of 'jit' requested from: 'numba.decorators', please update to use 'numba.core.decorators' or pin to Numba version 0.48.0. This alias will not be present in Numba version 0.50.0.\u001b[0m\n",
      "  from numba.decorators import jit as optional_jit\n"
     ]
    }
   ],
   "source": [
    "import os\n",
    "import re\n",
    "import numpy as np\n",
    "import pandas as pd\n",
    "import scipy.io.wavfile as sw\n",
    "import librosa\n",
    "import python_speech_features as psf\n",
    "import matplotlib.pyplot as plt\n",
    "from sklearn.metrics import confusion_matrix\n",
    "from sklearn import svm\n",
    "from sklearn.model_selection import train_test_split\n",
    "from sklearn.metrics import accuracy_score\n",
    "from sklearn.preprocessing import StandardScaler\n",
    "from sklearn.ensemble import RandomForestClassifier"
   ]
  },
  {
   "cell_type": "markdown",
   "metadata": {},
   "source": [
    "## データセットの読み込み"
   ]
  },
  {
   "cell_type": "code",
   "execution_count": 2,
   "metadata": {},
   "outputs": [],
   "source": [
    "base_dir = \"./audio-cats-and-dogs/cats_dogs\"\n",
    "file_names = os.listdir(base_dir)\n",
    "final_dataset = pd.DataFrame()\n",
    "\n",
    "for file_name in file_names:\n",
    "    y, sr = librosa.core.load(os.path.join(base_dir, file_name))\n",
    "    fr = librosa.feature.melspectrogram(y=y, sr=sr)\n",
    "    y = librosa.feature.mfcc(y, sr, n_mfcc=50)\n",
    "    for i in range(y.shape[1]):\n",
    "        features = pd.DataFrame(y[:, i].reshape(1, 50))\n",
    "        features[\"Target\"] = file_name\n",
    "        final_dataset = final_dataset.append(features)\n",
    "\n",
    "index = 50\n",
    "for i in range(0,len(final_dataset)):\n",
    "    final_dataset.iloc[i,index] = final_dataset.iloc[i,index].replace('.wav', '')\n",
    "    final_dataset.iloc[i,index] = re.sub(r'[0-9]+', '',final_dataset.iloc[i,index])\n",
    "    final_dataset.iloc[i,index] = final_dataset.iloc[i,index].replace('_', '')\n",
    "    final_dataset.iloc[i,index] = final_dataset.iloc[i,index].replace('barking', '0')\n",
    "    final_dataset.iloc[i,index] = final_dataset.iloc[i,index].replace('cat', '1')\n",
    "    final_dataset.iloc[i,index] = final_dataset.iloc[i,index].replace('dog', '0')\n",
    "    final_dataset.iloc[i,index] = final_dataset.iloc[i,index].replace('00', '0')"
   ]
  },
  {
   "cell_type": "markdown",
   "metadata": {},
   "source": [
    "## 学習\n",
    "Data Augmentationなしの場合で学習"
   ]
  },
  {
   "cell_type": "code",
   "execution_count": 3,
   "metadata": {},
   "outputs": [
    {
     "name": "stderr",
     "output_type": "stream",
     "text": [
      "/Users/yamad07/.pyenv/versions/3.7.2/lib/python3.7/site-packages/ipykernel_launcher.py:18: DataConversionWarning: A column-vector y was passed when a 1d array was expected. Please change the shape of y to (n_samples,), for example using ravel().\n"
     ]
    },
    {
     "data": {
      "text/plain": [
       "0.9723193824629116"
      ]
     },
     "execution_count": 3,
     "metadata": {},
     "output_type": "execute_result"
    }
   ],
   "source": [
    "fd=final_dataset\n",
    "fd = fd.rename(columns = {'y' : 'target'})\n",
    "y=fd.iloc[:,-1]\n",
    "X=fd.iloc[:,0:26]\n",
    "\n",
    "X_train, X_test, y_train, y_test = train_test_split(X, y, test_size = 0.2, random_state = 1)\n",
    "\n",
    "sc = StandardScaler()\n",
    "X_train = sc.fit_transform(X_train)\n",
    "X_test = sc.transform(X_test)\n",
    "\n",
    "type(y_train)\n",
    "X_train=pd.DataFrame(X_train)\n",
    "y_train=pd.DataFrame(y_train)\n",
    "X_test=pd.DataFrame(X_test)\n",
    "\n",
    "model = RandomForestClassifier()\n",
    "model1 = model.fit(X_train, y_train)\n",
    "model1.score(X_train,y_train)\n",
    "predicted=model.predict(X_test)\n",
    "accuracy_score(y_test,predicted)"
   ]
  },
  {
   "cell_type": "markdown",
   "metadata": {},
   "source": [
    "## Data Augmentation\n",
    "音声データに対して、ランダムで微小なノイズを加えることで、データを水増しする。"
   ]
  },
  {
   "cell_type": "code",
   "execution_count": 4,
   "metadata": {},
   "outputs": [
    {
     "name": "stderr",
     "output_type": "stream",
     "text": [
      "/Users/yamad07/.pyenv/versions/3.7.2/lib/python3.7/site-packages/ipykernel_launcher.py:17: DataConversionWarning: A column-vector y was passed when a 1d array was expected. Please change the shape of y to (n_samples,), for example using ravel().\n"
     ]
    },
    {
     "data": {
      "text/plain": [
       "0.9762996019780484"
      ]
     },
     "execution_count": 4,
     "metadata": {},
     "output_type": "execute_result"
    }
   ],
   "source": [
    "X_train, X_test, y_train, y_test = train_test_split(X, y, test_size = 0.2, random_state = 1)\n",
    "\n",
    "wn = np.random.randn(X_train.shape[0], X_train.shape[1])\n",
    "X_train = np.concatenate((X_train, X_train + 0.005 * wn,  X_train + 0.015 * wn), axis=0)\n",
    "y_train = np.concatenate((y_train, y_train, y_train), axis=0)\n",
    "\n",
    "sc = StandardScaler()\n",
    "X_train = sc.fit_transform(X_train)\n",
    "X_test = sc.transform(X_test)\n",
    "\n",
    "type(y_train)\n",
    "X_train=pd.DataFrame(X_train)\n",
    "y_train=pd.DataFrame(y_train)\n",
    "X_test=pd.DataFrame(X_test)\n",
    "\n",
    "model = RandomForestClassifier()\n",
    "model1 = model.fit(X_train, y_train)\n",
    "model1.score(X_train,y_train)\n",
    "predicted=model.predict(X_test)\n",
    "accuracy_score(y_test,predicted)"
   ]
  },
  {
   "cell_type": "markdown",
   "metadata": {},
   "source": [
    "## 結果\n",
    "わずかではあるが、Data Augmentationを用いて精度を向上させることができた。"
   ]
  }
 ],
 "metadata": {
  "kernelspec": {
   "display_name": "Python 3",
   "language": "python",
   "name": "python3"
  },
  "language_info": {
   "codemirror_mode": {
    "name": "ipython",
    "version": 3
   },
   "file_extension": ".py",
   "mimetype": "text/x-python",
   "name": "python",
   "nbconvert_exporter": "python",
   "pygments_lexer": "ipython3",
   "version": "3.7.2"
  }
 },
 "nbformat": 4,
 "nbformat_minor": 4
}
